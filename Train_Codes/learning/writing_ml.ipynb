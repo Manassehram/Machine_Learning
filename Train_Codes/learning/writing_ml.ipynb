{
 "cells": [
  {
   "cell_type": "code",
   "execution_count": 1,
   "id": "2d5e4b19-1d88-43b1-8ad2-242411dc3ae5",
   "metadata": {},
   "outputs": [
    {
     "name": "stderr",
     "output_type": "stream",
     "text": [
      "D:\\School\\Project\\MErchine LEarning\\venv\\lib\\site-packages\\keras\\src\\layers\\reshaping\\flatten.py:37: UserWarning: Do not pass an `input_shape`/`input_dim` argument to a layer. When using Sequential models, prefer using an `Input(shape)` object as the first layer in the model instead.\n",
      "  super().__init__(**kwargs)\n"
     ]
    },
    {
     "name": "stdout",
     "output_type": "stream",
     "text": [
      "Epoch 1/10\n",
      "\u001b[1m1875/1875\u001b[0m \u001b[32m━━━━━━━━━━━━━━━━━━━━\u001b[0m\u001b[37m\u001b[0m \u001b[1m24s\u001b[0m 6ms/step - accuracy: 0.9000 - loss: 0.3359\n",
      "Epoch 2/10\n",
      "\u001b[1m1875/1875\u001b[0m \u001b[32m━━━━━━━━━━━━━━━━━━━━\u001b[0m\u001b[37m\u001b[0m \u001b[1m9s\u001b[0m 5ms/step - accuracy: 0.9741 - loss: 0.0843\n",
      "Epoch 3/10\n",
      "\u001b[1m1875/1875\u001b[0m \u001b[32m━━━━━━━━━━━━━━━━━━━━\u001b[0m\u001b[37m\u001b[0m \u001b[1m10s\u001b[0m 5ms/step - accuracy: 0.9845 - loss: 0.0485\n",
      "Epoch 4/10\n",
      "\u001b[1m1875/1875\u001b[0m \u001b[32m━━━━━━━━━━━━━━━━━━━━\u001b[0m\u001b[37m\u001b[0m \u001b[1m10s\u001b[0m 6ms/step - accuracy: 0.9892 - loss: 0.0345\n",
      "Epoch 5/10\n",
      "\u001b[1m1874/1875\u001b[0m \u001b[32m━━━━━━━━━━━━━━━━━━━\u001b[0m\u001b[37m━\u001b[0m \u001b[1m0s\u001b[0m 6ms/step - accuracy: 0.9931 - loss: 0.0220\n",
      "Reached 99% accuracy so cancelling training!\n",
      "\u001b[1m1875/1875\u001b[0m \u001b[32m━━━━━━━━━━━━━━━━━━━━\u001b[0m\u001b[37m\u001b[0m \u001b[1m11s\u001b[0m 6ms/step - accuracy: 0.9931 - loss: 0.0220\n"
     ]
    },
    {
     "data": {
      "text/plain": [
       "<keras.src.callbacks.history.History at 0x16f30047490>"
      ]
     },
     "execution_count": 1,
     "metadata": {},
     "output_type": "execute_result"
    }
   ],
   "source": [
    "# Import TensorFlow library\n",
    "import tensorflow as tf\n",
    "\n",
    "# Define a custom callback class to stop training when accuracy exceeds 99%\n",
    "#inherits from inbuilt class tf.keras.callbacks.Callback provide framework for hooking into the process. \n",
    "class myCallback(tf.keras.callbacks.Callback):\n",
    "    # This function is called at the end of every training epoch\n",
    "    #it checks from the logs of the epoch, the accuracy of the curret epoch from logs={}\n",
    "    def on_epoch_end(self, epoch, logs={}):\n",
    "        # Check if accuracy has surpassed 99%\n",
    "        if(logs.get('accuracy') > 0.99):\n",
    "            print(\"\\nReached 99% accuracy so cancelling training!\")\n",
    "            # Stop training the model\n",
    "            self.model.stop_training = True\n",
    "# Load the MNIST dataset from Keras\n",
    "mnist = tf.keras.datasets.mnist\n",
    "\n",
    "# Split the dataset into training and testing sets\n",
    "(x_train, y_train), (x_test, y_test) = mnist.load_data()\n",
    "\n",
    "# Normalize the image pixel values from 0–255 to 0–1\n",
    "#allows model to train faster\n",
    "x_train, x_test = x_train / 255.0, x_test / 255.0\n",
    "\n",
    "# Create an instance of the callback class\n",
    "callbacks = myCallback()\n",
    "\n",
    "# Build the neural network model\n",
    "model = tf.keras.models.Sequential([\n",
    "    tf.keras.layers.Flatten(input_shape=(28, 28)),         # Converts 2D image (28x28) into 1D array (784 values)\n",
    "    tf.keras.layers.Dense(512, activation=tf.nn.relu),     # Hidden layer with 512 neurons and ReLU activation\n",
    "    tf.keras.layers.Dense(10, activation=tf.nn.softmax)    # Output layer with 10 neurons for 10 digit classes\n",
    "])\n",
    "# Compile the model (set up loss function, optimizer, and evaluation metric)\n",
    "model.compile(optimizer='adam',\n",
    "              loss='sparse_categorical_crossentropy',\n",
    "              metrics=['accuracy'])\n",
    "# Train the model on training data for up to 10 epochs,\n",
    "# but stop early if 99% accuracy is reached (due to callback)\n",
    "model.fit(x_train, y_train, epochs=10, callbacks=[callbacks])"
   ]
  },
  {
   "cell_type": "code",
   "execution_count": null,
   "id": "3daa36cd-a46d-49c8-9eca-025eca3d0dbe",
   "metadata": {},
   "outputs": [],
   "source": []
  }
 ],
 "metadata": {
  "kernelspec": {
   "display_name": "Python 3 (ipykernel)",
   "language": "python",
   "name": "python3"
  },
  "language_info": {
   "codemirror_mode": {
    "name": "ipython",
    "version": 3
   },
   "file_extension": ".py",
   "mimetype": "text/x-python",
   "name": "python",
   "nbconvert_exporter": "python",
   "pygments_lexer": "ipython3",
   "version": "3.10.11"
  }
 },
 "nbformat": 4,
 "nbformat_minor": 5
}
