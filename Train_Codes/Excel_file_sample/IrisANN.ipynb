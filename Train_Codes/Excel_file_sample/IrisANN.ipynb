{
 "cells": [
  {
   "cell_type": "code",
   "execution_count": 1,
   "id": "553473d7-3dde-4aa7-a527-e7ff8a385f0c",
   "metadata": {},
   "outputs": [],
   "source": [
    "import numpy as np\n",
    "import tensorflow as tf\n",
    "import matplotlib.pyplot as plt\n",
    "import pandas as pd\n",
    "from sklearn.preprocessing import LabelEncoder, StandardScaler\n",
    "from sklearn.metrics import classification_report, accuracy_score\n",
    "from tensorflow.keras.models import Model\n",
    "from tensorflow.keras.layers import Input, Dense, Dropout\n",
    "from tensorflow.keras.optimizers import Adam\n",
    "from tensorflow.keras.callbacks import EarlyStopping, ReduceLROnPlateau, ModelCheckpoint\n",
    "#for reprodcability\n",
    "SEED = 42\n",
    "np.random.seed(SEED)\n",
    "tf.random.set_seed(SEED)"
   ]
  },
  {
   "cell_type": "code",
   "execution_count": 2,
   "id": "b8214c6b-a106-4562-89ff-21e8c3573909",
   "metadata": {},
   "outputs": [
    {
     "name": "stdout",
     "output_type": "stream",
     "text": [
      "Dataset loaded successfully.\n",
      "\n",
      "Unique Species_name values and their counts:\n",
      "Species_name\n",
      "Setosa        50\n",
      "Versicolor    50\n",
      "Verginica     50\n",
      "Name: count, dtype: int64\n",
      "\n",
      "Train samples per class: 25 (Setosa), 25 (Versicolor), 25 (Virginica)\n",
      "Test samples per class: 25 (Setosa), 25 (Versicolor), 25 (Virginica)\n",
      "Features extracted: Petal_width, Petal_length, Sepal_width, Sepal_length.\n",
      "✅ Features normalized.\n",
      "✅ Labels encoded and one-hot encoded. Number of classes: 3\n"
     ]
    }
   ],
   "source": [
    "# === Load the dataset ===\n",
    "# Updated file path as per your request\n",
    "file_path = \"D:/School/Project/Machine_Learning/sample_codes/ECE543E_Assignment/Iris.xls\"\n",
    "try:\n",
    "    df = pd.read_excel(file_path) \n",
    "    print(\"Dataset loaded successfully.\") \n",
    "    # Clean the 'Species_name' column by stripping any leading/trailing whitespace.\n",
    "    df['Species_name'] = df['Species_name'].str.strip()    \n",
    "    # Display unique species names and their counts to confirm data integrity\n",
    "    print(\"\\nUnique Species_name values and their counts:\")\n",
    "    print(df['Species_name'].value_counts())\n",
    "except FileNotFoundError:\n",
    "    print(f\"Error: File not found at {file_path}.\")\n",
    "    exit() # Exit the script if the file cannot be found\n",
    "except Exception as e:\n",
    "    print(f\"Error loading Excel file: {e}.\")\n",
    "    exit() # Exit for any other errors during file loading\n",
    "# === Manual train-test split: First 25 for training, next 25 for testing per class ===\n",
    "# Setosa (rows 0-49 in original df)\n",
    "setosa_train = df.iloc[0:25]\n",
    "setosa_test = df.iloc[25:50]\n",
    "# Versicolor (rows 50-99 in original df)\n",
    "versicolor_train = df.iloc[50:75]\n",
    "versicolor_test = df.iloc[75:100]\n",
    "# Virginica (rows 100-149 in original df)\n",
    "virginica_train = df.iloc[100:125]\n",
    "virginica_test = df.iloc[125:150]\n",
    "# Concatenate the individual species' train and test sets to form the final datasets\n",
    "train_df = pd.concat([setosa_train, versicolor_train, virginica_train])\n",
    "test_df = pd.concat([setosa_test, versicolor_test, virginica_test])\n",
    "# Display the number of samples in each class for verification\n",
    "print(f\"\\nTrain samples per class: {len(setosa_train)} (Setosa), {len(versicolor_train)} (Versicolor), {len(virginica_train)} (Virginica)\")\n",
    "print(f\"Test samples per class: {len(setosa_test)} (Setosa), {len(versicolor_test)} (Versicolor), {len(virginica_test)} (Virginica)\")\n",
    "# === Extract Features and Labels ===\n",
    "feature_columns = ['Petal_width', 'Petal_length', 'Sepal_width', 'Sepal_length']\n",
    "# Extract feature values (X) and label values (y) for training and testing\n",
    "X_train = train_df[feature_columns].values\n",
    "y_train = train_df['Species_name'].values \n",
    "X_test = test_df[feature_columns].values\n",
    "y_test = test_df['Species_name'].values \n",
    "print(\"Features extracted: Petal_width, Petal_length, Sepal_width, Sepal_length.\")\n",
    "# === Normalize Features ===\n",
    "scaler = StandardScaler()\n",
    "X_train = scaler.fit_transform(X_train) \n",
    "X_test = scaler.transform(X_test)     \n",
    "print(\"✅ Features normalized.\")\n",
    "# === Encode Labels Convert categorical string labels (e.g., 'Setosa') into numerical labels (e.g., 0, 1, 2)\n",
    "encoder = LabelEncoder()\n",
    "y_train_enc = encoder.fit_transform(y_train) \n",
    "y_test_enc = encoder.transform(y_test)     \n",
    "num_classes = len(encoder.classes_) \n",
    "\n",
    "# Convert numerical labels into 0 -> [1,0,0] for 'categorical_crossentropy' loss function\n",
    "y_train_onehot = tf.keras.utils.to_categorical(y_train_enc, num_classes=num_classes)\n",
    "y_test_onehot = tf.keras.utils.to_categorical(y_test_enc, num_classes=num_classes)\n",
    "print(f\"Labels encoded and one-hot encoded. Number of classes: {num_classes}\")"
   ]
  },
  {
   "cell_type": "code",
   "execution_count": 3,
   "id": "b365415c-0c27-4279-bb82-a28901ffb3b5",
   "metadata": {},
   "outputs": [
    {
     "name": "stdout",
     "output_type": "stream",
     "text": [
      "\n",
      " Model created and compiled.\n"
     ]
    },
    {
     "data": {
      "text/html": [
       "<pre style=\"white-space:pre;overflow-x:auto;line-height:normal;font-family:Menlo,'DejaVu Sans Mono',consolas,'Courier New',monospace\"><span style=\"font-weight: bold\">Model: \"functional\"</span>\n",
       "</pre>\n"
      ],
      "text/plain": [
       "\u001b[1mModel: \"functional\"\u001b[0m\n"
      ]
     },
     "metadata": {},
     "output_type": "display_data"
    },
    {
     "data": {
      "text/html": [
       "<pre style=\"white-space:pre;overflow-x:auto;line-height:normal;font-family:Menlo,'DejaVu Sans Mono',consolas,'Courier New',monospace\">┏━━━━━━━━━━━━━━━━━━━━━━━━━━━━━━━━━━━━━━┳━━━━━━━━━━━━━━━━━━━━━━━━━━━━━┳━━━━━━━━━━━━━━━━━┓\n",
       "┃<span style=\"font-weight: bold\"> Layer (type)                         </span>┃<span style=\"font-weight: bold\"> Output Shape                </span>┃<span style=\"font-weight: bold\">         Param # </span>┃\n",
       "┡━━━━━━━━━━━━━━━━━━━━━━━━━━━━━━━━━━━━━━╇━━━━━━━━━━━━━━━━━━━━━━━━━━━━━╇━━━━━━━━━━━━━━━━━┩\n",
       "│ input_layer (<span style=\"color: #0087ff; text-decoration-color: #0087ff\">InputLayer</span>)             │ (<span style=\"color: #00d7ff; text-decoration-color: #00d7ff\">None</span>, <span style=\"color: #00af00; text-decoration-color: #00af00\">4</span>)                   │               <span style=\"color: #00af00; text-decoration-color: #00af00\">0</span> │\n",
       "├──────────────────────────────────────┼─────────────────────────────┼─────────────────┤\n",
       "│ dense (<span style=\"color: #0087ff; text-decoration-color: #0087ff\">Dense</span>)                        │ (<span style=\"color: #00d7ff; text-decoration-color: #00d7ff\">None</span>, <span style=\"color: #00af00; text-decoration-color: #00af00\">64</span>)                  │             <span style=\"color: #00af00; text-decoration-color: #00af00\">320</span> │\n",
       "├──────────────────────────────────────┼─────────────────────────────┼─────────────────┤\n",
       "│ dropout (<span style=\"color: #0087ff; text-decoration-color: #0087ff\">Dropout</span>)                    │ (<span style=\"color: #00d7ff; text-decoration-color: #00d7ff\">None</span>, <span style=\"color: #00af00; text-decoration-color: #00af00\">64</span>)                  │               <span style=\"color: #00af00; text-decoration-color: #00af00\">0</span> │\n",
       "├──────────────────────────────────────┼─────────────────────────────┼─────────────────┤\n",
       "│ dense_1 (<span style=\"color: #0087ff; text-decoration-color: #0087ff\">Dense</span>)                      │ (<span style=\"color: #00d7ff; text-decoration-color: #00d7ff\">None</span>, <span style=\"color: #00af00; text-decoration-color: #00af00\">32</span>)                  │           <span style=\"color: #00af00; text-decoration-color: #00af00\">2,080</span> │\n",
       "├──────────────────────────────────────┼─────────────────────────────┼─────────────────┤\n",
       "│ dropout_1 (<span style=\"color: #0087ff; text-decoration-color: #0087ff\">Dropout</span>)                  │ (<span style=\"color: #00d7ff; text-decoration-color: #00d7ff\">None</span>, <span style=\"color: #00af00; text-decoration-color: #00af00\">32</span>)                  │               <span style=\"color: #00af00; text-decoration-color: #00af00\">0</span> │\n",
       "├──────────────────────────────────────┼─────────────────────────────┼─────────────────┤\n",
       "│ dense_2 (<span style=\"color: #0087ff; text-decoration-color: #0087ff\">Dense</span>)                      │ (<span style=\"color: #00d7ff; text-decoration-color: #00d7ff\">None</span>, <span style=\"color: #00af00; text-decoration-color: #00af00\">16</span>)                  │             <span style=\"color: #00af00; text-decoration-color: #00af00\">528</span> │\n",
       "├──────────────────────────────────────┼─────────────────────────────┼─────────────────┤\n",
       "│ dropout_2 (<span style=\"color: #0087ff; text-decoration-color: #0087ff\">Dropout</span>)                  │ (<span style=\"color: #00d7ff; text-decoration-color: #00d7ff\">None</span>, <span style=\"color: #00af00; text-decoration-color: #00af00\">16</span>)                  │               <span style=\"color: #00af00; text-decoration-color: #00af00\">0</span> │\n",
       "├──────────────────────────────────────┼─────────────────────────────┼─────────────────┤\n",
       "│ dense_3 (<span style=\"color: #0087ff; text-decoration-color: #0087ff\">Dense</span>)                      │ (<span style=\"color: #00d7ff; text-decoration-color: #00d7ff\">None</span>, <span style=\"color: #00af00; text-decoration-color: #00af00\">3</span>)                   │              <span style=\"color: #00af00; text-decoration-color: #00af00\">51</span> │\n",
       "└──────────────────────────────────────┴─────────────────────────────┴─────────────────┘\n",
       "</pre>\n"
      ],
      "text/plain": [
       "┏━━━━━━━━━━━━━━━━━━━━━━━━━━━━━━━━━━━━━━┳━━━━━━━━━━━━━━━━━━━━━━━━━━━━━┳━━━━━━━━━━━━━━━━━┓\n",
       "┃\u001b[1m \u001b[0m\u001b[1mLayer (type)                        \u001b[0m\u001b[1m \u001b[0m┃\u001b[1m \u001b[0m\u001b[1mOutput Shape               \u001b[0m\u001b[1m \u001b[0m┃\u001b[1m \u001b[0m\u001b[1m        Param #\u001b[0m\u001b[1m \u001b[0m┃\n",
       "┡━━━━━━━━━━━━━━━━━━━━━━━━━━━━━━━━━━━━━━╇━━━━━━━━━━━━━━━━━━━━━━━━━━━━━╇━━━━━━━━━━━━━━━━━┩\n",
       "│ input_layer (\u001b[38;5;33mInputLayer\u001b[0m)             │ (\u001b[38;5;45mNone\u001b[0m, \u001b[38;5;34m4\u001b[0m)                   │               \u001b[38;5;34m0\u001b[0m │\n",
       "├──────────────────────────────────────┼─────────────────────────────┼─────────────────┤\n",
       "│ dense (\u001b[38;5;33mDense\u001b[0m)                        │ (\u001b[38;5;45mNone\u001b[0m, \u001b[38;5;34m64\u001b[0m)                  │             \u001b[38;5;34m320\u001b[0m │\n",
       "├──────────────────────────────────────┼─────────────────────────────┼─────────────────┤\n",
       "│ dropout (\u001b[38;5;33mDropout\u001b[0m)                    │ (\u001b[38;5;45mNone\u001b[0m, \u001b[38;5;34m64\u001b[0m)                  │               \u001b[38;5;34m0\u001b[0m │\n",
       "├──────────────────────────────────────┼─────────────────────────────┼─────────────────┤\n",
       "│ dense_1 (\u001b[38;5;33mDense\u001b[0m)                      │ (\u001b[38;5;45mNone\u001b[0m, \u001b[38;5;34m32\u001b[0m)                  │           \u001b[38;5;34m2,080\u001b[0m │\n",
       "├──────────────────────────────────────┼─────────────────────────────┼─────────────────┤\n",
       "│ dropout_1 (\u001b[38;5;33mDropout\u001b[0m)                  │ (\u001b[38;5;45mNone\u001b[0m, \u001b[38;5;34m32\u001b[0m)                  │               \u001b[38;5;34m0\u001b[0m │\n",
       "├──────────────────────────────────────┼─────────────────────────────┼─────────────────┤\n",
       "│ dense_2 (\u001b[38;5;33mDense\u001b[0m)                      │ (\u001b[38;5;45mNone\u001b[0m, \u001b[38;5;34m16\u001b[0m)                  │             \u001b[38;5;34m528\u001b[0m │\n",
       "├──────────────────────────────────────┼─────────────────────────────┼─────────────────┤\n",
       "│ dropout_2 (\u001b[38;5;33mDropout\u001b[0m)                  │ (\u001b[38;5;45mNone\u001b[0m, \u001b[38;5;34m16\u001b[0m)                  │               \u001b[38;5;34m0\u001b[0m │\n",
       "├──────────────────────────────────────┼─────────────────────────────┼─────────────────┤\n",
       "│ dense_3 (\u001b[38;5;33mDense\u001b[0m)                      │ (\u001b[38;5;45mNone\u001b[0m, \u001b[38;5;34m3\u001b[0m)                   │              \u001b[38;5;34m51\u001b[0m │\n",
       "└──────────────────────────────────────┴─────────────────────────────┴─────────────────┘\n"
      ]
     },
     "metadata": {},
     "output_type": "display_data"
    },
    {
     "data": {
      "text/html": [
       "<pre style=\"white-space:pre;overflow-x:auto;line-height:normal;font-family:Menlo,'DejaVu Sans Mono',consolas,'Courier New',monospace\"><span style=\"font-weight: bold\"> Total params: </span><span style=\"color: #00af00; text-decoration-color: #00af00\">2,979</span> (11.64 KB)\n",
       "</pre>\n"
      ],
      "text/plain": [
       "\u001b[1m Total params: \u001b[0m\u001b[38;5;34m2,979\u001b[0m (11.64 KB)\n"
      ]
     },
     "metadata": {},
     "output_type": "display_data"
    },
    {
     "data": {
      "text/html": [
       "<pre style=\"white-space:pre;overflow-x:auto;line-height:normal;font-family:Menlo,'DejaVu Sans Mono',consolas,'Courier New',monospace\"><span style=\"font-weight: bold\"> Trainable params: </span><span style=\"color: #00af00; text-decoration-color: #00af00\">2,979</span> (11.64 KB)\n",
       "</pre>\n"
      ],
      "text/plain": [
       "\u001b[1m Trainable params: \u001b[0m\u001b[38;5;34m2,979\u001b[0m (11.64 KB)\n"
      ]
     },
     "metadata": {},
     "output_type": "display_data"
    },
    {
     "data": {
      "text/html": [
       "<pre style=\"white-space:pre;overflow-x:auto;line-height:normal;font-family:Menlo,'DejaVu Sans Mono',consolas,'Courier New',monospace\"><span style=\"font-weight: bold\"> Non-trainable params: </span><span style=\"color: #00af00; text-decoration-color: #00af00\">0</span> (0.00 B)\n",
       "</pre>\n"
      ],
      "text/plain": [
       "\u001b[1m Non-trainable params: \u001b[0m\u001b[38;5;34m0\u001b[0m (0.00 B)\n"
      ]
     },
     "metadata": {},
     "output_type": "display_data"
    }
   ],
   "source": [
    "# === Model Definition (Artificial Neural Network) ===.\n",
    "def create_ann_model(input_shape=(4,), num_classes=3):\n",
    "    inputs = Input(shape=input_shape) # Input layer matching the 4 features\n",
    "    # Hidden Layer 1: Dense layer with 64 neurons and ReLU activation\n",
    "    x = Dense(64, activation='relu')(inputs) \n",
    "    x = Dropout(0.2)(x) # Dropout for regularization to prevent overfitting\n",
    "    # Hidden Layer 2: Dense layer with 32 neurons and ReLU activation\n",
    "    x = Dense(32, activation='relu')(x) \n",
    "    x = Dropout(0.2)(x) # Dropout for regularization to prevent overfitting\n",
    "    # Hidden Layer 3: Dense layer with 16 neurons and ReLU activation\n",
    "    x = Dense(16, activation='relu')(x) \n",
    "    x = Dropout(0.2)(x)\n",
    "    # Output Layer: Dense layer with 'num_classes' neurons and Softmax activation\n",
    "    outputs = Dense(num_classes, activation='softmax')(x) \n",
    "    model = Model(inputs, outputs) \n",
    "    return model\n",
    "# Create an instance of the ANN model\n",
    "model = create_ann_model(input_shape=(X_train.shape[1],), num_classes=num_classes) \n",
    "# === Compile the Model ===\n",
    "model.compile(\n",
    "    optimizer=Adam(learning_rate=0.001), \n",
    "    loss='categorical_crossentropy',      \n",
    "    metrics=['accuracy']               \n",
    ")\n",
    "print(\"\\n Model created and compiled.\")\n",
    "model.summary() # Display the model's architecture and parameter coun"
   ]
  },
  {
   "cell_type": "code",
   "execution_count": 4,
   "id": "851b0438-2463-483c-8f48-bcda94caeace",
   "metadata": {},
   "outputs": [
    {
     "name": "stdout",
     "output_type": "stream",
     "text": [
      "\n",
      "--- Initial Weights and Biases (Hidden Layer 1) ---\n",
      "Initial Weights (Input to Hidden 1):\n",
      " [[ 0.18180937  0.19076666 -0.18738991  0.14423466  0.00497594  0.06362668\n",
      "   0.06101465  0.13560194 -0.25253096  0.12690145  0.18801448 -0.1938873\n",
      "   0.17654017 -0.26045752  0.21345979 -0.06179787  0.24072796 -0.21889025\n",
      "   0.27659976  0.19085115 -0.16151437  0.17860287  0.2831335   0.04460257\n",
      "  -0.09292068 -0.12812006 -0.06394523  0.08594325  0.00647813 -0.00295344\n",
      "  -0.16700348 -0.10630029 -0.24444681  0.252966    0.28879738  0.12324348\n",
      "   0.2754416   0.08479682 -0.11038737  0.16218087  0.24784362 -0.25854766\n",
      "  -0.2714394   0.1771563  -0.27895522 -0.2777701   0.13093299  0.14651266\n",
      "  -0.29045212  0.04243544  0.05356869 -0.0554087  -0.01146051 -0.01861769\n",
      "  -0.15848862 -0.17202525  0.01449001  0.17356837 -0.10908511 -0.12248577\n",
      "   0.02137026 -0.26467198  0.1803067   0.27610898]\n",
      " [ 0.06586021 -0.04107207 -0.21190774 -0.07832165  0.2895695   0.14034191\n",
      "  -0.00798079 -0.17138666 -0.25250694 -0.01778778  0.2961722   0.07369274\n",
      "   0.03629845 -0.15886368  0.14835352  0.06077352 -0.2193154  -0.05540529\n",
      "   0.02404141 -0.1711363   0.24038619  0.01975152  0.25239247 -0.1505251\n",
      "  -0.24731208 -0.24920654  0.18928742 -0.18884613 -0.068451    0.07366675\n",
      "  -0.09499487  0.2768948   0.05618772 -0.17813453  0.09479168 -0.25556514\n",
      "   0.26648605  0.22938985  0.16094837  0.1748243   0.1509301  -0.22595435\n",
      "   0.08525246  0.02869684  0.1179812   0.29526418 -0.20965245  0.00305712\n",
      "   0.1431809   0.11060444 -0.2518233   0.27874976  0.2784469  -0.02522513\n",
      "  -0.23783137  0.02505174  0.02489012 -0.22383583 -0.17452884 -0.09896141\n",
      "   0.05249223 -0.02735391  0.24402279  0.06926835]\n",
      " [-0.0552628   0.02104151 -0.12505253 -0.18480366  0.01652336  0.08593604\n",
      "   0.16354111  0.20695376  0.04503697  0.20760047 -0.1006216  -0.12124385\n",
      "   0.07154381 -0.05701987  0.2895469  -0.14376885  0.00150415  0.17200202\n",
      "   0.01169804 -0.2069141  -0.13653946  0.16197726  0.27915204  0.08817837\n",
      "  -0.2182309   0.02741376  0.04737166 -0.10384181 -0.16484691  0.2813574\n",
      "   0.15853018 -0.23158404  0.2673155   0.21982408 -0.0826588   0.24088186\n",
      "  -0.11376849  0.13843992  0.06300515 -0.16438268  0.09648183 -0.18655564\n",
      "   0.24042124 -0.27131107 -0.05773297  0.10087937 -0.02983046  0.13065508\n",
      "  -0.23832032  0.08690041  0.11088949 -0.10625483  0.26326436  0.27593368\n",
      "  -0.2778086  -0.01848561  0.12461245  0.23821521  0.24388564 -0.05407493\n",
      "  -0.14968877  0.10471892 -0.01985958 -0.18263456]\n",
      " [ 0.07206294  0.22566408  0.04509625 -0.27829254 -0.19607489 -0.07736692\n",
      "  -0.275307    0.12143803  0.14733517 -0.00609145 -0.0847898  -0.22384644\n",
      "   0.01565623  0.2492156  -0.02055272  0.0012728  -0.15260603  0.1060192\n",
      "   0.23346251  0.02643409 -0.00049937 -0.1295573   0.23231441 -0.28658977\n",
      "   0.21178764 -0.08309329  0.24875325 -0.02701965  0.1130653   0.28023624\n",
      "  -0.16827896  0.17865288  0.04437828  0.28839934  0.05784813  0.05925101\n",
      "  -0.05753623  0.15218222 -0.01623037  0.20405442  0.17937481  0.1661481\n",
      "  -0.26703003  0.18326077 -0.12694465  0.24664295 -0.2796651  -0.17415836\n",
      "   0.26495677  0.20685375 -0.03170729 -0.26605752 -0.06387801 -0.26712948\n",
      "  -0.08861922  0.2741223  -0.16203001 -0.29326564  0.13453326 -0.11546098\n",
      "  -0.26614195  0.18071964 -0.12860774 -0.20237312]]\n",
      "Initial Biases (Hidden 1):\n",
      " [0. 0. 0. 0. 0. 0. 0. 0. 0. 0. 0. 0. 0. 0. 0. 0. 0. 0. 0. 0. 0. 0. 0. 0.\n",
      " 0. 0. 0. 0. 0. 0. 0. 0. 0. 0. 0. 0. 0. 0. 0. 0. 0. 0. 0. 0. 0. 0. 0. 0.\n",
      " 0. 0. 0. 0. 0. 0. 0. 0. 0. 0. 0. 0. 0. 0. 0. 0.]\n"
     ]
    }
   ],
   "source": [
    "# --- Display Initial Weights ---\n",
    "print(\"\\n--- Initial Weights and Biases (Hidden Layer 1) ---\")\n",
    "initial_weights_h1, initial_biases_h1 = model.get_layer('dense').get_weights()\n",
    "print(\"Initial Weights (Input to Hidden 1):\\n\", initial_weights_h1)\n",
    "print(\"Initial Biases (Hidden 1):\\n\", initial_biases_h1)"
   ]
  },
  {
   "cell_type": "code",
   "execution_count": 5,
   "id": "9b3f9485-57f7-4318-a90c-1b5fd45563f3",
   "metadata": {},
   "outputs": [
    {
     "name": "stdout",
     "output_type": "stream",
     "text": [
      "Callbacks defined.\n"
     ]
    }
   ],
   "source": [
    "          \n",
    "callbacks = [\n",
    "    EarlyStopping(monitor='val_loss', patience=10, restore_best_weights=True),\n",
    "    ReduceLROnPlateau(monitor='val_loss', factor=0.5, patience=5, min_lr=1e-6),\n",
    "    ModelCheckpoint('Iris_model.h5', monitor='val_accuracy', save_best_only=True),\n",
    "]\n",
    "print(\"Callbacks defined.\")"
   ]
  },
  {
   "cell_type": "code",
   "execution_count": 6,
   "id": "b2039128-76ea-4803-925a-3c35a60d9cd9",
   "metadata": {},
   "outputs": [
    {
     "name": "stdout",
     "output_type": "stream",
     "text": [
      "\n",
      "Starting model training...\n",
      "Epoch 1/120\n",
      "\u001b[1m8/8\u001b[0m \u001b[32m━━━━━━━━━━━━━━━━━━━━\u001b[0m\u001b[37m\u001b[0m \u001b[1m0s\u001b[0m 7ms/step - accuracy: 0.3826 - loss: 1.0756"
     ]
    },
    {
     "name": "stderr",
     "output_type": "stream",
     "text": [
      "WARNING:absl:You are saving your model as an HDF5 file via `model.save()` or `keras.saving.save_model(model)`. This file format is considered legacy. We recommend using instead the native Keras format, e.g. `model.save('my_model.keras')` or `keras.saving.save_model(model, 'my_model.keras')`. \n"
     ]
    },
    {
     "name": "stdout",
     "output_type": "stream",
     "text": [
      "\u001b[1m8/8\u001b[0m \u001b[32m━━━━━━━━━━━━━━━━━━━━\u001b[0m\u001b[37m\u001b[0m \u001b[1m5s\u001b[0m 144ms/step - accuracy: 0.3845 - loss: 1.0755 - val_accuracy: 0.0000e+00 - val_loss: 1.1397 - learning_rate: 0.0010\n",
      "Epoch 2/120\n",
      "\u001b[1m8/8\u001b[0m \u001b[32m━━━━━━━━━━━━━━━━━━━━\u001b[0m\u001b[37m\u001b[0m \u001b[1m0s\u001b[0m 27ms/step - accuracy: 0.7028 - loss: 1.0196 - val_accuracy: 0.0000e+00 - val_loss: 1.1227 - learning_rate: 0.0010\n",
      "Epoch 3/120\n",
      "\u001b[1m8/8\u001b[0m \u001b[32m━━━━━━━━━━━━━━━━━━━━\u001b[0m\u001b[37m\u001b[0m \u001b[1m0s\u001b[0m 32ms/step - accuracy: 0.7450 - loss: 0.9512 - val_accuracy: 0.0000e+00 - val_loss: 1.1027 - learning_rate: 0.0010\n",
      "Epoch 4/120\n",
      "\u001b[1m8/8\u001b[0m \u001b[32m━━━━━━━━━━━━━━━━━━━━\u001b[0m\u001b[37m\u001b[0m \u001b[1m0s\u001b[0m 38ms/step - accuracy: 0.7447 - loss: 0.9075 - val_accuracy: 0.0000e+00 - val_loss: 1.0799 - learning_rate: 0.0010\n",
      "Epoch 5/120\n",
      "\u001b[1m8/8\u001b[0m \u001b[32m━━━━━━━━━━━━━━━━━━━━\u001b[0m\u001b[37m\u001b[0m \u001b[1m0s\u001b[0m 30ms/step - accuracy: 0.7888 - loss: 0.8067 - val_accuracy: 0.0000e+00 - val_loss: 1.0524 - learning_rate: 0.0010\n",
      "Epoch 6/120\n",
      "\u001b[1m8/8\u001b[0m \u001b[32m━━━━━━━━━━━━━━━━━━━━\u001b[0m\u001b[37m\u001b[0m \u001b[1m0s\u001b[0m 31ms/step - accuracy: 0.8353 - loss: 0.7429 - val_accuracy: 0.0000e+00 - val_loss: 1.0278 - learning_rate: 0.0010\n",
      "Epoch 7/120\n",
      "\u001b[1m8/8\u001b[0m \u001b[32m━━━━━━━━━━━━━━━━━━━━\u001b[0m\u001b[37m\u001b[0m \u001b[1m0s\u001b[0m 37ms/step - accuracy: 0.8233 - loss: 0.6970 - val_accuracy: 0.0000e+00 - val_loss: 1.0013 - learning_rate: 0.0010\n",
      "Epoch 8/120\n",
      "\u001b[1m1/8\u001b[0m \u001b[32m━━\u001b[0m\u001b[37m━━━━━━━━━━━━━━━━━━\u001b[0m \u001b[1m0s\u001b[0m 101ms/step - accuracy: 1.0000 - loss: 0.3928"
     ]
    },
    {
     "name": "stderr",
     "output_type": "stream",
     "text": [
      "WARNING:absl:You are saving your model as an HDF5 file via `model.save()` or `keras.saving.save_model(model)`. This file format is considered legacy. We recommend using instead the native Keras format, e.g. `model.save('my_model.keras')` or `keras.saving.save_model(model, 'my_model.keras')`. \n"
     ]
    },
    {
     "name": "stdout",
     "output_type": "stream",
     "text": [
      "\u001b[1m8/8\u001b[0m \u001b[32m━━━━━━━━━━━━━━━━━━━━\u001b[0m\u001b[37m\u001b[0m \u001b[1m0s\u001b[0m 47ms/step - accuracy: 0.8927 - loss: 0.6095 - val_accuracy: 0.0667 - val_loss: 0.9731 - learning_rate: 0.0010\n",
      "Epoch 9/120\n",
      "\u001b[1m1/8\u001b[0m \u001b[32m━━\u001b[0m\u001b[37m━━━━━━━━━━━━━━━━━━\u001b[0m \u001b[1m0s\u001b[0m 112ms/step - accuracy: 1.0000 - loss: 0.2856"
     ]
    },
    {
     "name": "stderr",
     "output_type": "stream",
     "text": [
      "WARNING:absl:You are saving your model as an HDF5 file via `model.save()` or `keras.saving.save_model(model)`. This file format is considered legacy. We recommend using instead the native Keras format, e.g. `model.save('my_model.keras')` or `keras.saving.save_model(model, 'my_model.keras')`. \n"
     ]
    },
    {
     "name": "stdout",
     "output_type": "stream",
     "text": [
      "\u001b[1m8/8\u001b[0m \u001b[32m━━━━━━━━━━━━━━━━━━━━\u001b[0m\u001b[37m\u001b[0m \u001b[1m1s\u001b[0m 57ms/step - accuracy: 0.8711 - loss: 0.5447 - val_accuracy: 0.2000 - val_loss: 0.9509 - learning_rate: 0.0010\n",
      "Epoch 10/120\n",
      "\u001b[1m8/8\u001b[0m \u001b[32m━━━━━━━━━━━━━━━━━━━━\u001b[0m\u001b[37m\u001b[0m \u001b[1m1s\u001b[0m 37ms/step - accuracy: 0.8774 - loss: 0.4864 - val_accuracy: 0.2000 - val_loss: 0.9345 - learning_rate: 0.0010\n",
      "Epoch 11/120\n",
      "\u001b[1m8/8\u001b[0m \u001b[32m━━━━━━━━━━━━━━━━━━━━\u001b[0m\u001b[37m\u001b[0m \u001b[1m1s\u001b[0m 38ms/step - accuracy: 0.8668 - loss: 0.5004 - val_accuracy: 0.1333 - val_loss: 0.9343 - learning_rate: 0.0010\n",
      "Epoch 12/120\n",
      "\u001b[1m8/8\u001b[0m \u001b[32m━━━━━━━━━━━━━━━━━━━━\u001b[0m\u001b[37m\u001b[0m \u001b[1m0s\u001b[0m 33ms/step - accuracy: 0.8725 - loss: 0.4590 - val_accuracy: 0.0667 - val_loss: 0.9241 - learning_rate: 0.0010\n",
      "Epoch 13/120\n",
      "\u001b[1m8/8\u001b[0m \u001b[32m━━━━━━━━━━━━━━━━━━━━\u001b[0m\u001b[37m\u001b[0m \u001b[1m0s\u001b[0m 32ms/step - accuracy: 0.7961 - loss: 0.4175 - val_accuracy: 0.2000 - val_loss: 0.9012 - learning_rate: 0.0010\n",
      "Epoch 14/120\n",
      "\u001b[1m1/8\u001b[0m \u001b[32m━━\u001b[0m\u001b[37m━━━━━━━━━━━━━━━━━━\u001b[0m \u001b[1m0s\u001b[0m 72ms/step - accuracy: 0.8750 - loss: 0.1821"
     ]
    },
    {
     "name": "stderr",
     "output_type": "stream",
     "text": [
      "WARNING:absl:You are saving your model as an HDF5 file via `model.save()` or `keras.saving.save_model(model)`. This file format is considered legacy. We recommend using instead the native Keras format, e.g. `model.save('my_model.keras')` or `keras.saving.save_model(model, 'my_model.keras')`. \n"
     ]
    },
    {
     "name": "stdout",
     "output_type": "stream",
     "text": [
      "\u001b[1m8/8\u001b[0m \u001b[32m━━━━━━━━━━━━━━━━━━━━\u001b[0m\u001b[37m\u001b[0m \u001b[1m0s\u001b[0m 60ms/step - accuracy: 0.8636 - loss: 0.4075 - val_accuracy: 0.2667 - val_loss: 0.9011 - learning_rate: 0.0010\n",
      "Epoch 15/120\n",
      "\u001b[1m8/8\u001b[0m \u001b[32m━━━━━━━━━━━━━━━━━━━━\u001b[0m\u001b[37m\u001b[0m \u001b[1m0s\u001b[0m 35ms/step - accuracy: 0.8307 - loss: 0.4491 - val_accuracy: 0.1333 - val_loss: 0.9060 - learning_rate: 0.0010\n",
      "Epoch 16/120\n",
      "\u001b[1m8/8\u001b[0m \u001b[32m━━━━━━━━━━━━━━━━━━━━\u001b[0m\u001b[37m\u001b[0m \u001b[1m0s\u001b[0m 48ms/step - accuracy: 0.9183 - loss: 0.3574 - val_accuracy: 0.2667 - val_loss: 0.8897 - learning_rate: 0.0010\n",
      "Epoch 17/120\n",
      "\u001b[1m7/8\u001b[0m \u001b[32m━━━━━━━━━━━━━━━━━\u001b[0m\u001b[37m━━━\u001b[0m \u001b[1m0s\u001b[0m 9ms/step - accuracy: 0.9054 - loss: 0.3648  "
     ]
    },
    {
     "name": "stderr",
     "output_type": "stream",
     "text": [
      "WARNING:absl:You are saving your model as an HDF5 file via `model.save()` or `keras.saving.save_model(model)`. This file format is considered legacy. We recommend using instead the native Keras format, e.g. `model.save('my_model.keras')` or `keras.saving.save_model(model, 'my_model.keras')`. \n"
     ]
    },
    {
     "name": "stdout",
     "output_type": "stream",
     "text": [
      "\u001b[1m8/8\u001b[0m \u001b[32m━━━━━━━━━━━━━━━━━━━━\u001b[0m\u001b[37m\u001b[0m \u001b[1m1s\u001b[0m 63ms/step - accuracy: 0.9005 - loss: 0.3745 - val_accuracy: 0.4667 - val_loss: 0.8639 - learning_rate: 0.0010\n",
      "Epoch 18/120\n",
      "\u001b[1m1/8\u001b[0m \u001b[32m━━\u001b[0m\u001b[37m━━━━━━━━━━━━━━━━━━\u001b[0m \u001b[1m0s\u001b[0m 138ms/step - accuracy: 0.8750 - loss: 0.2102"
     ]
    },
    {
     "name": "stderr",
     "output_type": "stream",
     "text": [
      "WARNING:absl:You are saving your model as an HDF5 file via `model.save()` or `keras.saving.save_model(model)`. This file format is considered legacy. We recommend using instead the native Keras format, e.g. `model.save('my_model.keras')` or `keras.saving.save_model(model, 'my_model.keras')`. \n"
     ]
    },
    {
     "name": "stdout",
     "output_type": "stream",
     "text": [
      "\u001b[1m8/8\u001b[0m \u001b[32m━━━━━━━━━━━━━━━━━━━━\u001b[0m\u001b[37m\u001b[0m \u001b[1m0s\u001b[0m 52ms/step - accuracy: 0.8985 - loss: 0.3252 - val_accuracy: 0.5333 - val_loss: 0.8356 - learning_rate: 0.0010\n",
      "Epoch 19/120\n",
      "\u001b[1m1/8\u001b[0m \u001b[32m━━\u001b[0m\u001b[37m━━━━━━━━━━━━━━━━━━\u001b[0m \u001b[1m0s\u001b[0m 93ms/step - accuracy: 1.0000 - loss: 0.0971"
     ]
    },
    {
     "name": "stderr",
     "output_type": "stream",
     "text": [
      "WARNING:absl:You are saving your model as an HDF5 file via `model.save()` or `keras.saving.save_model(model)`. This file format is considered legacy. We recommend using instead the native Keras format, e.g. `model.save('my_model.keras')` or `keras.saving.save_model(model, 'my_model.keras')`. \n"
     ]
    },
    {
     "name": "stdout",
     "output_type": "stream",
     "text": [
      "\u001b[1m8/8\u001b[0m \u001b[32m━━━━━━━━━━━━━━━━━━━━\u001b[0m\u001b[37m\u001b[0m \u001b[1m1s\u001b[0m 59ms/step - accuracy: 0.9131 - loss: 0.3471 - val_accuracy: 0.6000 - val_loss: 0.8142 - learning_rate: 0.0010\n",
      "Epoch 20/120\n",
      "\u001b[1m8/8\u001b[0m \u001b[32m━━━━━━━━━━━━━━━━━━━━\u001b[0m\u001b[37m\u001b[0m \u001b[1m0s\u001b[0m 31ms/step - accuracy: 0.8826 - loss: 0.3034 - val_accuracy: 0.6000 - val_loss: 0.7924 - learning_rate: 0.0010\n",
      "Epoch 21/120\n",
      "\u001b[1m8/8\u001b[0m \u001b[32m━━━━━━━━━━━━━━━━━━━━\u001b[0m\u001b[37m\u001b[0m \u001b[1m1s\u001b[0m 53ms/step - accuracy: 0.9206 - loss: 0.2667 - val_accuracy: 0.6000 - val_loss: 0.7777 - learning_rate: 0.0010\n",
      "Epoch 22/120\n",
      "\u001b[1m8/8\u001b[0m \u001b[32m━━━━━━━━━━━━━━━━━━━━\u001b[0m\u001b[37m\u001b[0m \u001b[1m0s\u001b[0m 8ms/step - accuracy: 0.9422 - loss: 0.2715  "
     ]
    },
    {
     "name": "stderr",
     "output_type": "stream",
     "text": [
      "WARNING:absl:You are saving your model as an HDF5 file via `model.save()` or `keras.saving.save_model(model)`. This file format is considered legacy. We recommend using instead the native Keras format, e.g. `model.save('my_model.keras')` or `keras.saving.save_model(model, 'my_model.keras')`. \n"
     ]
    },
    {
     "name": "stdout",
     "output_type": "stream",
     "text": [
      "\u001b[1m8/8\u001b[0m \u001b[32m━━━━━━━━━━━━━━━━━━━━\u001b[0m\u001b[37m\u001b[0m \u001b[1m1s\u001b[0m 59ms/step - accuracy: 0.9356 - loss: 0.2782 - val_accuracy: 0.6667 - val_loss: 0.7228 - learning_rate: 0.0010\n",
      "Epoch 23/120\n",
      "\u001b[1m8/8\u001b[0m \u001b[32m━━━━━━━━━━━━━━━━━━━━\u001b[0m\u001b[37m\u001b[0m \u001b[1m1s\u001b[0m 44ms/step - accuracy: 0.8763 - loss: 0.3151 - val_accuracy: 0.6667 - val_loss: 0.6716 - learning_rate: 0.0010\n",
      "Epoch 24/120\n",
      "\u001b[1m1/8\u001b[0m \u001b[32m━━\u001b[0m\u001b[37m━━━━━━━━━━━━━━━━━━\u001b[0m \u001b[1m0s\u001b[0m 70ms/step - accuracy: 0.8750 - loss: 0.1463"
     ]
    },
    {
     "name": "stderr",
     "output_type": "stream",
     "text": [
      "WARNING:absl:You are saving your model as an HDF5 file via `model.save()` or `keras.saving.save_model(model)`. This file format is considered legacy. We recommend using instead the native Keras format, e.g. `model.save('my_model.keras')` or `keras.saving.save_model(model, 'my_model.keras')`. \n"
     ]
    },
    {
     "name": "stdout",
     "output_type": "stream",
     "text": [
      "\u001b[1m8/8\u001b[0m \u001b[32m━━━━━━━━━━━━━━━━━━━━\u001b[0m\u001b[37m\u001b[0m \u001b[1m0s\u001b[0m 52ms/step - accuracy: 0.8572 - loss: 0.2652 - val_accuracy: 0.7333 - val_loss: 0.6308 - learning_rate: 0.0010\n",
      "Epoch 25/120\n",
      "\u001b[1m8/8\u001b[0m \u001b[32m━━━━━━━━━━━━━━━━━━━━\u001b[0m\u001b[37m\u001b[0m \u001b[1m0s\u001b[0m 43ms/step - accuracy: 0.9015 - loss: 0.2568 - val_accuracy: 0.6667 - val_loss: 0.6523 - learning_rate: 0.0010\n",
      "Epoch 26/120\n",
      "\u001b[1m8/8\u001b[0m \u001b[32m━━━━━━━━━━━━━━━━━━━━\u001b[0m\u001b[37m\u001b[0m \u001b[1m0s\u001b[0m 32ms/step - accuracy: 0.9462 - loss: 0.2432 - val_accuracy: 0.7333 - val_loss: 0.6152 - learning_rate: 0.0010\n",
      "Epoch 27/120\n",
      "\u001b[1m8/8\u001b[0m \u001b[32m━━━━━━━━━━━━━━━━━━━━\u001b[0m\u001b[37m\u001b[0m \u001b[1m0s\u001b[0m 8ms/step - accuracy: 0.9382 - loss: 0.2182  "
     ]
    },
    {
     "name": "stderr",
     "output_type": "stream",
     "text": [
      "WARNING:absl:You are saving your model as an HDF5 file via `model.save()` or `keras.saving.save_model(model)`. This file format is considered legacy. We recommend using instead the native Keras format, e.g. `model.save('my_model.keras')` or `keras.saving.save_model(model, 'my_model.keras')`. \n"
     ]
    },
    {
     "name": "stdout",
     "output_type": "stream",
     "text": [
      "\u001b[1m8/8\u001b[0m \u001b[32m━━━━━━━━━━━━━━━━━━━━\u001b[0m\u001b[37m\u001b[0m \u001b[1m1s\u001b[0m 69ms/step - accuracy: 0.9377 - loss: 0.2223 - val_accuracy: 0.8000 - val_loss: 0.5775 - learning_rate: 0.0010\n",
      "Epoch 28/120\n",
      "\u001b[1m1/8\u001b[0m \u001b[32m━━\u001b[0m\u001b[37m━━━━━━━━━━━━━━━━━━\u001b[0m \u001b[1m0s\u001b[0m 83ms/step - accuracy: 0.8750 - loss: 0.1635"
     ]
    },
    {
     "name": "stderr",
     "output_type": "stream",
     "text": [
      "WARNING:absl:You are saving your model as an HDF5 file via `model.save()` or `keras.saving.save_model(model)`. This file format is considered legacy. We recommend using instead the native Keras format, e.g. `model.save('my_model.keras')` or `keras.saving.save_model(model, 'my_model.keras')`. \n"
     ]
    },
    {
     "name": "stdout",
     "output_type": "stream",
     "text": [
      "\u001b[1m8/8\u001b[0m \u001b[32m━━━━━━━━━━━━━━━━━━━━\u001b[0m\u001b[37m\u001b[0m \u001b[1m0s\u001b[0m 58ms/step - accuracy: 0.9136 - loss: 0.2651 - val_accuracy: 0.8667 - val_loss: 0.5041 - learning_rate: 0.0010\n",
      "Epoch 29/120\n",
      "\u001b[1m1/8\u001b[0m \u001b[32m━━\u001b[0m\u001b[37m━━━━━━━━━━━━━━━━━━\u001b[0m \u001b[1m0s\u001b[0m 75ms/step - accuracy: 1.0000 - loss: 0.0844"
     ]
    },
    {
     "name": "stderr",
     "output_type": "stream",
     "text": [
      "WARNING:absl:You are saving your model as an HDF5 file via `model.save()` or `keras.saving.save_model(model)`. This file format is considered legacy. We recommend using instead the native Keras format, e.g. `model.save('my_model.keras')` or `keras.saving.save_model(model, 'my_model.keras')`. \n"
     ]
    },
    {
     "name": "stdout",
     "output_type": "stream",
     "text": [
      "\u001b[1m8/8\u001b[0m \u001b[32m━━━━━━━━━━━━━━━━━━━━\u001b[0m\u001b[37m\u001b[0m \u001b[1m0s\u001b[0m 58ms/step - accuracy: 0.9274 - loss: 0.2166 - val_accuracy: 0.9333 - val_loss: 0.4467 - learning_rate: 0.0010\n",
      "Epoch 30/120\n",
      "\u001b[1m8/8\u001b[0m \u001b[32m━━━━━━━━━━━━━━━━━━━━\u001b[0m\u001b[37m\u001b[0m \u001b[1m0s\u001b[0m 33ms/step - accuracy: 0.9238 - loss: 0.2025 - val_accuracy: 0.8667 - val_loss: 0.4549 - learning_rate: 0.0010\n",
      "Epoch 31/120\n",
      "\u001b[1m8/8\u001b[0m \u001b[32m━━━━━━━━━━━━━━━━━━━━\u001b[0m\u001b[37m\u001b[0m \u001b[1m0s\u001b[0m 27ms/step - accuracy: 0.9697 - loss: 0.1825 - val_accuracy: 0.8667 - val_loss: 0.4879 - learning_rate: 0.0010\n",
      "Epoch 32/120\n",
      "\u001b[1m8/8\u001b[0m \u001b[32m━━━━━━━━━━━━━━━━━━━━\u001b[0m\u001b[37m\u001b[0m \u001b[1m0s\u001b[0m 29ms/step - accuracy: 0.9074 - loss: 0.2196 - val_accuracy: 0.8667 - val_loss: 0.5490 - learning_rate: 0.0010\n",
      "Epoch 33/120\n",
      "\u001b[1m8/8\u001b[0m \u001b[32m━━━━━━━━━━━━━━━━━━━━\u001b[0m\u001b[37m\u001b[0m \u001b[1m0s\u001b[0m 46ms/step - accuracy: 0.9405 - loss: 0.1716 - val_accuracy: 0.8667 - val_loss: 0.5081 - learning_rate: 0.0010\n",
      "Epoch 34/120\n",
      "\u001b[1m8/8\u001b[0m \u001b[32m━━━━━━━━━━━━━━━━━━━━\u001b[0m\u001b[37m\u001b[0m \u001b[1m1s\u001b[0m 31ms/step - accuracy: 0.9320 - loss: 0.1962 - val_accuracy: 0.8667 - val_loss: 0.4186 - learning_rate: 0.0010\n",
      "Epoch 35/120\n",
      "\u001b[1m8/8\u001b[0m \u001b[32m━━━━━━━━━━━━━━━━━━━━\u001b[0m\u001b[37m\u001b[0m \u001b[1m0s\u001b[0m 43ms/step - accuracy: 0.9462 - loss: 0.1682 - val_accuracy: 0.9333 - val_loss: 0.3454 - learning_rate: 0.0010\n",
      "Epoch 36/120\n",
      "\u001b[1m8/8\u001b[0m \u001b[32m━━━━━━━━━━━━━━━━━━━━\u001b[0m\u001b[37m\u001b[0m \u001b[1m0s\u001b[0m 33ms/step - accuracy: 0.9441 - loss: 0.1555 - val_accuracy: 0.9333 - val_loss: 0.3006 - learning_rate: 0.0010\n",
      "Epoch 37/120\n",
      "\u001b[1m8/8\u001b[0m \u001b[32m━━━━━━━━━━━━━━━━━━━━\u001b[0m\u001b[37m\u001b[0m \u001b[1m0s\u001b[0m 32ms/step - accuracy: 0.9273 - loss: 0.1490 - val_accuracy: 0.9333 - val_loss: 0.2802 - learning_rate: 0.0010\n",
      "Epoch 38/120\n",
      "\u001b[1m8/8\u001b[0m \u001b[32m━━━━━━━━━━━━━━━━━━━━\u001b[0m\u001b[37m\u001b[0m \u001b[1m1s\u001b[0m 39ms/step - accuracy: 0.9750 - loss: 0.1564 - val_accuracy: 0.9333 - val_loss: 0.3284 - learning_rate: 0.0010\n",
      "Epoch 39/120\n",
      "\u001b[1m8/8\u001b[0m \u001b[32m━━━━━━━━━━━━━━━━━━━━\u001b[0m\u001b[37m\u001b[0m \u001b[1m0s\u001b[0m 31ms/step - accuracy: 0.9658 - loss: 0.1618 - val_accuracy: 0.9333 - val_loss: 0.3526 - learning_rate: 0.0010\n",
      "Epoch 40/120\n",
      "\u001b[1m8/8\u001b[0m \u001b[32m━━━━━━━━━━━━━━━━━━━━\u001b[0m\u001b[37m\u001b[0m \u001b[1m0s\u001b[0m 31ms/step - accuracy: 0.9466 - loss: 0.1486 - val_accuracy: 0.9333 - val_loss: 0.3611 - learning_rate: 0.0010\n",
      "Epoch 41/120\n",
      "\u001b[1m8/8\u001b[0m \u001b[32m━━━━━━━━━━━━━━━━━━━━\u001b[0m\u001b[37m\u001b[0m \u001b[1m0s\u001b[0m 35ms/step - accuracy: 0.9382 - loss: 0.1670 - val_accuracy: 0.9333 - val_loss: 0.3322 - learning_rate: 0.0010\n",
      "Epoch 42/120\n",
      "\u001b[1m8/8\u001b[0m \u001b[32m━━━━━━━━━━━━━━━━━━━━\u001b[0m\u001b[37m\u001b[0m \u001b[1m0s\u001b[0m 30ms/step - accuracy: 0.9857 - loss: 0.0921 - val_accuracy: 0.9333 - val_loss: 0.2866 - learning_rate: 0.0010\n",
      "Epoch 43/120\n",
      "\u001b[1m8/8\u001b[0m \u001b[32m━━━━━━━━━━━━━━━━━━━━\u001b[0m\u001b[37m\u001b[0m \u001b[1m0s\u001b[0m 29ms/step - accuracy: 0.9777 - loss: 0.1084 - val_accuracy: 0.9333 - val_loss: 0.2823 - learning_rate: 5.0000e-04\n",
      "Epoch 44/120\n",
      "\u001b[1m8/8\u001b[0m \u001b[32m━━━━━━━━━━━━━━━━━━━━\u001b[0m\u001b[37m\u001b[0m \u001b[1m0s\u001b[0m 32ms/step - accuracy: 0.9460 - loss: 0.1256 - val_accuracy: 0.9333 - val_loss: 0.2625 - learning_rate: 5.0000e-04\n",
      "Epoch 45/120\n",
      "\u001b[1m8/8\u001b[0m \u001b[32m━━━━━━━━━━━━━━━━━━━━\u001b[0m\u001b[37m\u001b[0m \u001b[1m0s\u001b[0m 32ms/step - accuracy: 0.9857 - loss: 0.1076 - val_accuracy: 0.9333 - val_loss: 0.2609 - learning_rate: 5.0000e-04\n",
      "Epoch 46/120\n",
      "\u001b[1m8/8\u001b[0m \u001b[32m━━━━━━━━━━━━━━━━━━━━\u001b[0m\u001b[37m\u001b[0m \u001b[1m0s\u001b[0m 33ms/step - accuracy: 0.9670 - loss: 0.1153 - val_accuracy: 0.9333 - val_loss: 0.2649 - learning_rate: 5.0000e-04\n",
      "Epoch 47/120\n",
      "\u001b[1m8/8\u001b[0m \u001b[32m━━━━━━━━━━━━━━━━━━━━\u001b[0m\u001b[37m\u001b[0m \u001b[1m0s\u001b[0m 35ms/step - accuracy: 0.9920 - loss: 0.0818 - val_accuracy: 0.9333 - val_loss: 0.2535 - learning_rate: 5.0000e-04\n",
      "Epoch 48/120\n",
      "\u001b[1m8/8\u001b[0m \u001b[32m━━━━━━━━━━━━━━━━━━━━\u001b[0m\u001b[37m\u001b[0m \u001b[1m0s\u001b[0m 41ms/step - accuracy: 0.9840 - loss: 0.1027 - val_accuracy: 0.9333 - val_loss: 0.2477 - learning_rate: 5.0000e-04\n",
      "Epoch 49/120\n",
      "\u001b[1m8/8\u001b[0m \u001b[32m━━━━━━━━━━━━━━━━━━━━\u001b[0m\u001b[37m\u001b[0m \u001b[1m0s\u001b[0m 32ms/step - accuracy: 1.0000 - loss: 0.0739 - val_accuracy: 0.9333 - val_loss: 0.2463 - learning_rate: 5.0000e-04\n",
      "Epoch 50/120\n",
      "\u001b[1m8/8\u001b[0m \u001b[32m━━━━━━━━━━━━━━━━━━━━\u001b[0m\u001b[37m\u001b[0m \u001b[1m0s\u001b[0m 32ms/step - accuracy: 1.0000 - loss: 0.0833 - val_accuracy: 0.9333 - val_loss: 0.2451 - learning_rate: 5.0000e-04\n",
      "Epoch 51/120\n",
      "\u001b[1m8/8\u001b[0m \u001b[32m━━━━━━━━━━━━━━━━━━━━\u001b[0m\u001b[37m\u001b[0m \u001b[1m0s\u001b[0m 41ms/step - accuracy: 0.9742 - loss: 0.1031 - val_accuracy: 0.9333 - val_loss: 0.2586 - learning_rate: 5.0000e-04\n",
      "Epoch 52/120\n",
      "\u001b[1m8/8\u001b[0m \u001b[32m━━━━━━━━━━━━━━━━━━━━\u001b[0m\u001b[37m\u001b[0m \u001b[1m0s\u001b[0m 33ms/step - accuracy: 0.9554 - loss: 0.0993 - val_accuracy: 0.9333 - val_loss: 0.2641 - learning_rate: 5.0000e-04\n",
      "Epoch 53/120\n",
      "\u001b[1m8/8\u001b[0m \u001b[32m━━━━━━━━━━━━━━━━━━━━\u001b[0m\u001b[37m\u001b[0m \u001b[1m0s\u001b[0m 30ms/step - accuracy: 0.9519 - loss: 0.1274 - val_accuracy: 0.9333 - val_loss: 0.2436 - learning_rate: 5.0000e-04\n",
      "Epoch 54/120\n",
      "\u001b[1m8/8\u001b[0m \u001b[32m━━━━━━━━━━━━━━━━━━━━\u001b[0m\u001b[37m\u001b[0m \u001b[1m0s\u001b[0m 30ms/step - accuracy: 0.9920 - loss: 0.0691 - val_accuracy: 0.9333 - val_loss: 0.2334 - learning_rate: 5.0000e-04\n",
      "Epoch 55/120\n",
      "\u001b[1m8/8\u001b[0m \u001b[32m━━━━━━━━━━━━━━━━━━━━\u001b[0m\u001b[37m\u001b[0m \u001b[1m0s\u001b[0m 43ms/step - accuracy: 0.9857 - loss: 0.0661 - val_accuracy: 0.9333 - val_loss: 0.2380 - learning_rate: 5.0000e-04\n",
      "Epoch 56/120\n",
      "\u001b[1m8/8\u001b[0m \u001b[32m━━━━━━━━━━━━━━━━━━━━\u001b[0m\u001b[37m\u001b[0m \u001b[1m0s\u001b[0m 39ms/step - accuracy: 0.9742 - loss: 0.0838 - val_accuracy: 0.9333 - val_loss: 0.2553 - learning_rate: 5.0000e-04\n",
      "Epoch 57/120\n",
      "\u001b[1m8/8\u001b[0m \u001b[32m━━━━━━━━━━━━━━━━━━━━\u001b[0m\u001b[37m\u001b[0m \u001b[1m0s\u001b[0m 35ms/step - accuracy: 0.9920 - loss: 0.0906 - val_accuracy: 0.9333 - val_loss: 0.2665 - learning_rate: 5.0000e-04\n",
      "Epoch 58/120\n",
      "\u001b[1m8/8\u001b[0m \u001b[32m━━━━━━━━━━━━━━━━━━━━\u001b[0m\u001b[37m\u001b[0m \u001b[1m0s\u001b[0m 37ms/step - accuracy: 0.9920 - loss: 0.0901 - val_accuracy: 0.9333 - val_loss: 0.2494 - learning_rate: 5.0000e-04\n",
      "Epoch 59/120\n",
      "\u001b[1m8/8\u001b[0m \u001b[32m━━━━━━━━━━━━━━━━━━━━\u001b[0m\u001b[37m\u001b[0m \u001b[1m0s\u001b[0m 31ms/step - accuracy: 1.0000 - loss: 0.0633 - val_accuracy: 0.9333 - val_loss: 0.2398 - learning_rate: 5.0000e-04\n",
      "Epoch 60/120\n",
      "\u001b[1m8/8\u001b[0m \u001b[32m━━━━━━━━━━━━━━━━━━━━\u001b[0m\u001b[37m\u001b[0m \u001b[1m0s\u001b[0m 45ms/step - accuracy: 0.9635 - loss: 0.0730 - val_accuracy: 0.9333 - val_loss: 0.2351 - learning_rate: 2.5000e-04\n",
      "Epoch 61/120\n",
      "\u001b[1m8/8\u001b[0m \u001b[32m━━━━━━━━━━━━━━━━━━━━\u001b[0m\u001b[37m\u001b[0m \u001b[1m1s\u001b[0m 37ms/step - accuracy: 1.0000 - loss: 0.0737 - val_accuracy: 0.9333 - val_loss: 0.2288 - learning_rate: 2.5000e-04\n",
      "Epoch 62/120\n",
      "\u001b[1m8/8\u001b[0m \u001b[32m━━━━━━━━━━━━━━━━━━━━\u001b[0m\u001b[37m\u001b[0m \u001b[1m0s\u001b[0m 32ms/step - accuracy: 0.9777 - loss: 0.0910 - val_accuracy: 0.9333 - val_loss: 0.2165 - learning_rate: 2.5000e-04\n",
      "Epoch 63/120\n",
      "\u001b[1m8/8\u001b[0m \u001b[32m━━━━━━━━━━━━━━━━━━━━\u001b[0m\u001b[37m\u001b[0m \u001b[1m0s\u001b[0m 36ms/step - accuracy: 1.0000 - loss: 0.0457 - val_accuracy: 0.9333 - val_loss: 0.2076 - learning_rate: 2.5000e-04\n",
      "Epoch 64/120\n",
      "\u001b[1m8/8\u001b[0m \u001b[32m━━━━━━━━━━━━━━━━━━━━\u001b[0m\u001b[37m\u001b[0m \u001b[1m0s\u001b[0m 34ms/step - accuracy: 1.0000 - loss: 0.0669 - val_accuracy: 0.9333 - val_loss: 0.2096 - learning_rate: 2.5000e-04\n",
      "Epoch 65/120\n",
      "\u001b[1m8/8\u001b[0m \u001b[32m━━━━━━━━━━━━━━━━━━━━\u001b[0m\u001b[37m\u001b[0m \u001b[1m0s\u001b[0m 32ms/step - accuracy: 0.9840 - loss: 0.0685 - val_accuracy: 0.9333 - val_loss: 0.2071 - learning_rate: 2.5000e-04\n",
      "Epoch 66/120\n",
      "\u001b[1m8/8\u001b[0m \u001b[32m━━━━━━━━━━━━━━━━━━━━\u001b[0m\u001b[37m\u001b[0m \u001b[1m0s\u001b[0m 42ms/step - accuracy: 0.9857 - loss: 0.0485 - val_accuracy: 0.9333 - val_loss: 0.2026 - learning_rate: 2.5000e-04\n",
      "Epoch 67/120\n",
      "\u001b[1m8/8\u001b[0m \u001b[32m━━━━━━━━━━━━━━━━━━━━\u001b[0m\u001b[37m\u001b[0m \u001b[1m0s\u001b[0m 31ms/step - accuracy: 0.9380 - loss: 0.0900 - val_accuracy: 0.9333 - val_loss: 0.2118 - learning_rate: 2.5000e-04\n",
      "Epoch 68/120\n",
      "\u001b[1m8/8\u001b[0m \u001b[32m━━━━━━━━━━━━━━━━━━━━\u001b[0m\u001b[37m\u001b[0m \u001b[1m0s\u001b[0m 30ms/step - accuracy: 1.0000 - loss: 0.0490 - val_accuracy: 0.9333 - val_loss: 0.2244 - learning_rate: 2.5000e-04\n",
      "Epoch 69/120\n",
      "\u001b[1m8/8\u001b[0m \u001b[32m━━━━━━━━━━━━━━━━━━━━\u001b[0m\u001b[37m\u001b[0m \u001b[1m0s\u001b[0m 30ms/step - accuracy: 0.9742 - loss: 0.0799 - val_accuracy: 0.9333 - val_loss: 0.2300 - learning_rate: 2.5000e-04\n",
      "Epoch 70/120\n",
      "\u001b[1m8/8\u001b[0m \u001b[32m━━━━━━━━━━━━━━━━━━━━\u001b[0m\u001b[37m\u001b[0m \u001b[1m0s\u001b[0m 30ms/step - accuracy: 0.9920 - loss: 0.0658 - val_accuracy: 0.9333 - val_loss: 0.2275 - learning_rate: 2.5000e-04\n",
      "Epoch 71/120\n",
      "\u001b[1m8/8\u001b[0m \u001b[32m━━━━━━━━━━━━━━━━━━━━\u001b[0m\u001b[37m\u001b[0m \u001b[1m0s\u001b[0m 32ms/step - accuracy: 1.0000 - loss: 0.0530 - val_accuracy: 0.9333 - val_loss: 0.2208 - learning_rate: 2.5000e-04\n",
      "Epoch 72/120\n",
      "\u001b[1m8/8\u001b[0m \u001b[32m━━━━━━━━━━━━━━━━━━━━\u001b[0m\u001b[37m\u001b[0m \u001b[1m0s\u001b[0m 45ms/step - accuracy: 1.0000 - loss: 0.0622 - val_accuracy: 0.9333 - val_loss: 0.2196 - learning_rate: 1.2500e-04\n",
      "Epoch 73/120\n",
      "\u001b[1m8/8\u001b[0m \u001b[32m━━━━━━━━━━━━━━━━━━━━\u001b[0m\u001b[37m\u001b[0m \u001b[1m0s\u001b[0m 34ms/step - accuracy: 0.9920 - loss: 0.0689 - val_accuracy: 0.9333 - val_loss: 0.2162 - learning_rate: 1.2500e-04\n",
      "Epoch 74/120\n",
      "\u001b[1m8/8\u001b[0m \u001b[32m━━━━━━━━━━━━━━━━━━━━\u001b[0m\u001b[37m\u001b[0m \u001b[1m0s\u001b[0m 31ms/step - accuracy: 0.9857 - loss: 0.0637 - val_accuracy: 0.9333 - val_loss: 0.2156 - learning_rate: 1.2500e-04\n",
      "Epoch 75/120\n",
      "\u001b[1m8/8\u001b[0m \u001b[32m━━━━━━━━━━━━━━━━━━━━\u001b[0m\u001b[37m\u001b[0m \u001b[1m0s\u001b[0m 47ms/step - accuracy: 0.9801 - loss: 0.0767 - val_accuracy: 0.9333 - val_loss: 0.2146 - learning_rate: 1.2500e-04\n",
      "Epoch 76/120\n",
      "\u001b[1m8/8\u001b[0m \u001b[32m━━━━━━━━━━━━━━━━━━━━\u001b[0m\u001b[37m\u001b[0m \u001b[1m0s\u001b[0m 32ms/step - accuracy: 0.9857 - loss: 0.1057 - val_accuracy: 0.9333 - val_loss: 0.2100 - learning_rate: 1.2500e-04\n",
      "Model training complete.\n"
     ]
    }
   ],
   "source": [
    "# === Train the model ===\n",
    "print(\"\\nStarting model training...\")\n",
    "history = model.fit(\n",
    "    X_train, y_train_onehot,\n",
    "    validation_split=0.2, # This will take 20% of X_train for validation\n",
    "    epochs=120,\n",
    "    batch_size=8,\n",
    "    callbacks=callbacks,\n",
    "    verbose=1\n",
    ")\n",
    "print(\"Model training complete.\")"
   ]
  },
  {
   "cell_type": "code",
   "execution_count": 7,
   "id": "52b6c244-cc4d-41fc-aedd-3242b4fe0f26",
   "metadata": {},
   "outputs": [
    {
     "name": "stdout",
     "output_type": "stream",
     "text": [
      "\n",
      "--- Final Weights and Biases (Hidden Layer 1) ---\n",
      "Final Weights (Input to Hidden 1):\n",
      " [[ 2.83476561e-01  3.11139524e-01 -2.66427875e-01  1.74710229e-01\n",
      "   2.36903075e-02  1.87471330e-01  4.89038602e-02  1.82824269e-01\n",
      "  -3.49124342e-01  6.08566031e-02  2.71918803e-01 -1.80454060e-01\n",
      "   1.22259848e-01 -3.57432455e-01  1.78784832e-01 -1.10262536e-01\n",
      "   1.84633851e-01 -3.15353602e-01  3.42966110e-01  7.11098090e-02\n",
      "  -8.65392983e-02  2.65265465e-01  3.61503392e-01 -6.49740696e-02\n",
      "  -2.07399219e-01 -2.39807874e-01 -1.56156451e-01  9.30061117e-02\n",
      "   1.48031011e-01  4.33127135e-02 -2.36043692e-01 -6.91723824e-02\n",
      "  -2.28040323e-01  2.30704263e-01  2.98953414e-01  6.39336780e-02\n",
      "   3.67807120e-01  1.76118642e-01 -8.77277330e-02  2.49524355e-01\n",
      "   2.32799843e-01 -2.90685385e-01 -2.91214496e-01  1.82335988e-01\n",
      "  -4.21543449e-01 -3.31121296e-01  5.88152371e-02  1.81393430e-01\n",
      "  -3.64148527e-01  7.58629739e-02 -7.60409310e-02 -1.02438577e-01\n",
      "  -4.22363803e-02 -2.59799231e-02 -2.75538802e-01 -3.00740391e-01\n",
      "  -1.45976832e-02  1.42416552e-01 -2.24335954e-01 -1.87133327e-01\n",
      "   1.53258573e-02 -3.46192420e-01  1.03204675e-01  3.52239877e-01]\n",
      " [ 1.49059832e-01  7.43256807e-02 -2.86590874e-01 -8.37372169e-02\n",
      "   3.31166476e-01  2.45666131e-01 -6.84685307e-03 -1.29951835e-01\n",
      "  -3.54266167e-01 -7.69673213e-02  3.86266768e-01  8.60799477e-02\n",
      "  -1.96473309e-04 -2.55425215e-01  1.14613183e-01  4.48675230e-02\n",
      "  -2.75684774e-01 -1.52529553e-01  8.53692517e-02 -2.44846046e-01\n",
      "   2.95724869e-01  1.05308414e-01  3.20489675e-01 -2.49559343e-01\n",
      "  -3.23029965e-01 -3.51423830e-01  1.03531152e-01 -1.46555677e-01\n",
      "   5.25450818e-02  1.02838159e-01 -1.68850750e-01  3.13320667e-01\n",
      "   7.23276585e-02 -2.10511461e-01  1.09124824e-01 -3.15392256e-01\n",
      "   3.21741700e-01  3.09307843e-01  1.92600578e-01  2.45077893e-01\n",
      "   1.38452783e-01 -2.28647247e-01  6.40462935e-02 -1.80989050e-03\n",
      "  -5.20928809e-03  2.36179143e-01 -2.70300329e-01  3.66398059e-02\n",
      "   1.04761675e-01  1.51145011e-01 -3.71544689e-01  2.32436389e-01\n",
      "   2.54940510e-01 -3.31482664e-02 -3.13794941e-01 -8.13248083e-02\n",
      "  -1.47801191e-02 -2.58256644e-01 -2.90386289e-01 -1.72304839e-01\n",
      "   7.98110589e-02 -9.57244486e-02  1.89677849e-01  1.59582868e-01]\n",
      " [-1.58092901e-01 -2.44239923e-02 -9.40508172e-02 -1.88296229e-01\n",
      "  -5.48677519e-02 -1.18045034e-02  2.14812234e-01  2.02151865e-01\n",
      "   1.24572888e-01  2.90449619e-01 -2.20406935e-01 -1.54955730e-01\n",
      "   7.35726953e-02  1.82681475e-02  3.00004840e-01 -1.79790378e-01\n",
      "   8.14238712e-02  2.12686464e-01 -2.52694841e-02 -2.38716513e-01\n",
      "  -1.88129693e-01  7.46704191e-02  2.26082206e-01  1.74707338e-01\n",
      "  -2.27241084e-01  1.32320464e-01  2.22454164e-02 -1.92672879e-01\n",
      "  -1.07577406e-01  2.78512239e-01  1.76945120e-01 -2.84901828e-01\n",
      "   3.09154809e-01  2.21227258e-01 -1.61875725e-01  3.49559665e-01\n",
      "  -1.30269796e-01  6.97605833e-02  4.61848415e-02 -2.47416630e-01\n",
      "   2.13862434e-02 -2.56578296e-01  2.74533182e-01 -2.21444800e-01\n",
      "   3.76346670e-02  1.44112423e-01  5.79322129e-02  4.99343872e-02\n",
      "  -2.91902453e-01  4.90645021e-02  2.19705105e-01 -6.48446381e-02\n",
      "   3.06225061e-01  3.76650482e-01 -2.47172713e-01  1.17235258e-02\n",
      "   9.17612389e-02  2.70736456e-01  3.47807407e-01  1.53140491e-02\n",
      "  -2.20901370e-01  1.84195668e-01 -5.04962392e-02 -3.01231205e-01]\n",
      " [ 5.32711148e-02  2.78565109e-01 -2.20120512e-02 -3.59621018e-01\n",
      "  -1.80620372e-01 -6.94220215e-02 -2.13315666e-01  1.54727265e-01\n",
      "   6.05583116e-02 -9.22072157e-02 -1.05071738e-01 -2.45350450e-01\n",
      "   4.47893888e-02  1.63755551e-01 -4.78243344e-02  6.20578900e-02\n",
      "  -1.94518968e-01  7.54987169e-03  2.48480842e-01  5.10786735e-02\n",
      "  -4.25334871e-02 -1.04192860e-01  2.37338185e-01 -3.22410285e-01\n",
      "   2.27472797e-01 -1.37731031e-01  2.02758297e-01  3.89846899e-02\n",
      "   1.81309238e-01  2.41127118e-01 -2.70285070e-01  2.03452840e-01\n",
      "   6.13327771e-02  2.52030998e-01  1.77216306e-02  2.27996078e-03\n",
      "  -1.05428658e-01  1.70791388e-01  2.51666326e-02  1.82897627e-01\n",
      "   1.28836155e-01  2.21194595e-01 -2.82271832e-01  9.35703442e-02\n",
      "  -1.83203951e-01  1.76181152e-01 -3.10271531e-01 -1.97266445e-01\n",
      "   2.89792180e-01  2.62018859e-01 -1.28358200e-01 -2.45302066e-01\n",
      "  -6.50213361e-02 -3.06250304e-01 -6.97387680e-02  2.05818892e-01\n",
      "  -2.27893278e-01 -3.25221747e-01  3.27608585e-02 -1.60747841e-01\n",
      "  -1.96366504e-01  1.63629681e-01 -1.33655369e-01 -1.51809782e-01]]\n",
      "Final Biases (Hidden 1):\n",
      " [ 3.91989835e-02 -7.13405460e-02  3.13910022e-02 -3.30677293e-02\n",
      "  1.82977300e-02 -8.62033665e-02 -1.58938654e-02  1.99190414e-04\n",
      "  6.20016977e-02  2.28254199e-01  7.76904523e-02  2.34494749e-02\n",
      "  1.57416999e-01  7.62264878e-02  7.97862373e-03  1.78790957e-01\n",
      "  9.94052961e-02  5.79388924e-02 -1.11571789e-01  9.19040442e-02\n",
      " -1.91545803e-02  1.08795101e-02 -1.02539808e-01  3.02279163e-02\n",
      "  2.42389023e-01  3.55773456e-02  1.00443877e-01  1.77676693e-01\n",
      " -9.08960998e-02 -8.61689448e-02  1.20810896e-01  1.13640912e-01\n",
      "  1.46284148e-01 -2.58891396e-02 -2.39146147e-02  1.63020477e-01\n",
      " -1.56218171e-01 -1.33739009e-01  5.89969605e-02  7.65847042e-02\n",
      " -1.20357968e-01  2.13860050e-01  9.38336831e-03 -9.90756676e-02\n",
      "  1.02679297e-01 -5.94312437e-02  1.68706834e-01 -6.25079451e-03\n",
      "  1.71028003e-01  1.54692084e-01  7.36866593e-02 -5.77438436e-02\n",
      "  1.58015519e-01  1.33501649e-01  1.07012704e-01  2.67816752e-01\n",
      " -8.67640972e-03  3.10946200e-02  1.46064132e-01 -1.14473049e-02\n",
      "  9.78015438e-02  2.43133083e-01  1.66323259e-01  8.67752358e-02]\n",
      "--------------------------------------------------\n"
     ]
    }
   ],
   "source": [
    "# ---Display Final Weights ---\n",
    "print(\"\\n--- Final Weights and Biases (Hidden Layer 1) ---\")\n",
    "final_weights_h1, final_biases_h1 = model.get_layer('dense').get_weights()\n",
    "print(\"Final Weights (Input to Hidden 1):\\n\", final_weights_h1)\n",
    "print(\"Final Biases (Hidden 1):\\n\", final_biases_h1)\n",
    "print(\"--------------------------------------------------\")"
   ]
  },
  {
   "cell_type": "code",
   "execution_count": 8,
   "id": "833893f6-cecd-4208-8d39-865579db7505",
   "metadata": {},
   "outputs": [
    {
     "data": {
      "image/png": "[encoded data removed]",
      "text/plain": [
       "<Figure size 1000x500 with 2 Axes>"
      ]
     },
     "metadata": {},
     "output_type": "display_data"
    },
    {
     "name": "stdout",
     "output_type": "stream",
     "text": [
      "Training history plotted.\n",
      "\n",
      "Evaluating model on test data...\n",
      "\u001b[1m3/3\u001b[0m \u001b[32m━━━━━━━━━━━━━━━━━━━━\u001b[0m\u001b[37m\u001b[0m \u001b[1m0s\u001b[0m 74ms/step\n",
      "\n",
      "Test Accuracy: 0.96\n",
      "\n",
      "Classification Report:\n",
      "\n",
      "              precision    recall  f1-score   support\n",
      "\n",
      "      Setosa       1.00      1.00      1.00        25\n",
      "   Verginica       0.96      0.92      0.94        25\n",
      "  Versicolor       0.92      0.96      0.94        25\n",
      "\n",
      "    accuracy                           0.96        75\n",
      "   macro avg       0.96      0.96      0.96        75\n",
      "weighted avg       0.96      0.96      0.96        75\n",
      "\n",
      "Model evaluation complete.\n"
     ]
    }
   ],
   "source": [
    "# === Plot training history ===\n",
    "plt.figure(figsize=(10, 5))\n",
    "plt.subplot(1, 2, 1)\n",
    "plt.plot(history.history['accuracy'], label='Train Acc')\n",
    "plt.plot(history.history['val_accuracy'], label='Val Acc')\n",
    "plt.title('Training and Validation Accuracy')\n",
    "plt.xlabel('Epoch')\n",
    "plt.ylabel('Accuracy')\n",
    "plt.legend()\n",
    "plt.grid(True)\n",
    "\n",
    "plt.subplot(1, 2, 2)\n",
    "plt.plot(history.history['loss'], label='Train Loss')\n",
    "plt.plot(history.history['val_loss'], label='Val Loss')\n",
    "plt.title('Training and Validation Loss')\n",
    "plt.xlabel('Epoch')\n",
    "plt.ylabel('Loss')\n",
    "plt.legend()\n",
    "plt.grid(True)\n",
    "\n",
    "plt.tight_layout()\n",
    "plt.show()\n",
    "print(\"Training history plotted.\")\n",
    "\n",
    "# === Evaluate on test data ===\n",
    "print(\"\\nEvaluating model on test data...\")\n",
    "y_pred = model.predict(X_test)\n",
    "y_pred_classes = np.argmax(y_pred, axis=1)\n",
    "\n",
    "print(\"\\nTest Accuracy:\", accuracy_score(y_test_enc, y_pred_classes))\n",
    "print(\"\\nClassification Report:\\n\")\n",
    "print(classification_report(y_test_enc, y_pred_classes, target_names=encoder.classes_))\n",
    "print(\"Model evaluation complete.\")\n"
   ]
  },
  {
   "cell_type": "code",
   "execution_count": 15,
   "id": "0c059104-01e2-4775-9cdb-cdfbf6645407",
   "metadata": {},
   "outputs": [
    {
     "name": "stdout",
     "output_type": "stream",
     "text": [
      "\n",
      "--- Confusion Matrix ---\n"
     ]
    },
    {
     "data": {
      "image/png": "[encoded data removed]",
      "text/plain": [
       "<Figure size 640x480 with 2 Axes>"
      ]
     },
     "metadata": {},
     "output_type": "display_data"
    },
    {
     "name": "stdout",
     "output_type": "stream",
     "text": [
      "\n",
      "Classification Report:\n",
      "\n",
      "              precision    recall  f1-score   support\n",
      "\n",
      "      Setosa       1.00      1.00      1.00        25\n",
      "   Verginica       0.96      0.92      0.94        25\n",
      "  Versicolor       0.92      0.96      0.94        25\n",
      "\n",
      "    accuracy                           0.96        75\n",
      "   macro avg       0.96      0.96      0.96        75\n",
      "weighted avg       0.96      0.96      0.96        75\n",
      "\n",
      "✅ Model evaluation complete.\n"
     ]
    }
   ],
   "source": [
    "print(\"\\n--- Confusion Matrix ---\")\n",
    "# Calculate the confusion matrix\n",
    "cm = confusion_matrix(y_test_enc, y_pred_classes)\n",
    "# Display confusion matrix with class labels\n",
    "# FIX: Use 'encoder.classes_' instead of 'label_encoder.classes_'\n",
    "disp = ConfusionMatrixDisplay(confusion_matrix=cm, display_labels=encoder.classes_)\n",
    "disp.plot(cmap='Blues')\n",
    "plt.title('Confusion Matrix')\n",
    "plt.grid(False) # Typically, grid is not needed for confusion matrix plot\n",
    "plt.show()\n",
    "# Print a detailed classification report including precision, recall, and F1-score per class\n",
    "print(\"\\nClassification Report:\\n\")\n",
    "print(classification_report(y_test_enc, y_pred_classes, target_names=encoder.classes_))\n",
    "print(\"✅ Model evaluation complete.\")"
   ]
  },
  {
   "cell_type": "code",
   "execution_count": 14,
   "id": "6010073a-bf1f-47d4-8d4f-7b53529e3877",
   "metadata": {},
   "outputs": [
    {
     "data": {
      "image/png": "[encoded data removed]",
      "text/plain": [
       "<Figure size 640x480 with 1 Axes>"
      ]
     },
     "metadata": {},
     "output_type": "display_data"
    }
   ],
   "source": [
    "# Add this to visualize the number of samples per class\n",
    "import seaborn as sns\n",
    "sns.countplot(x='Species_name', data=df)\n",
    "plt.title(\"Class Distribution in Dataset\")\n",
    "plt.xlabel(\"Species\")\n",
    "plt.ylabel(\"Count\")\n",
    "plt.grid(True)\n",
    "plt.show()\n"
   ]
  },
  {
   "cell_type": "code",
   "execution_count": null,
   "id": "93f74922-6916-48a7-b2e7-697e10b4d800",
   "metadata": {},
   "outputs": [],
   "source": []
  }
 ],
 "metadata": {
  "kernelspec": {
   "display_name": "Python 3 (ipykernel)",
   "language": "python",
   "name": "python3"
  },
  "language_info": {
   "codemirror_mode": {
    "name": "ipython",
    "version": 3
   },
   "file_extension": ".py",
   "mimetype": "text/x-python",
   "name": "python",
   "nbconvert_exporter": "python",
   "pygments_lexer": "ipython3",
   "version": "3.10.11"
  }
 },
 "nbformat": 4,
 "nbformat_minor": 5
}
